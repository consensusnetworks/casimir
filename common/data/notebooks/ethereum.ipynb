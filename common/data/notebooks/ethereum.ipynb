{
 "cells": [
  {
   "cell_type": "markdown",
   "metadata": {},
   "source": [
    "# Check Ethereum"
   ]
  },
  {
   "cell_type": "code",
   "execution_count": 2,
   "metadata": {},
   "outputs": [
    {
     "name": "stdout",
     "output_type": "stream",
     "text": [
      "Casimir mainnet node is fully synced\n",
      "Casimir goerli node is fully synced\n",
      "Casimir hardhat node is fully synced\n"
     ]
    }
   ],
   "source": [
    "import json\n",
    "import boto3\n",
    "import requests\n",
    "from requests.auth import HTTPBasicAuth\n",
    "\n",
    "networks = {\n",
    "    \"mainnet\": {\n",
    "        \"requires_auth\": True\n",
    "    },\n",
    "    \"goerli\": {\n",
    "        \"requires_auth\": True\n",
    "    },\n",
    "    \"hardhat\": {\n",
    "        \"requires_auth\": False\n",
    "    }\n",
    "}\n",
    "\n",
    "for network, requires_auth in networks.items():\n",
    "\n",
    "    url = f\"https://nodes.casimir.co/eth/{network}\"\n",
    "\n",
    "    headers = {'content-type': 'application/json'}\n",
    "    payload = {\n",
    "        \"method\": \"eth_syncing\",\n",
    "        \"params\": [],\n",
    "        \"jsonrpc\": \"2.0\",\n",
    "        \"id\": 0,\n",
    "    }\n",
    "\n",
    "    auth = None\n",
    "    if requires_auth:\n",
    "        client = boto3.client('secretsmanager')\n",
    "        response = client.get_secret_value(SecretId='casimir-rpc-credentials')\n",
    "        secret = json.loads(response['SecretString'])\n",
    "        auth = HTTPBasicAuth(secret['username'], secret['password'])\n",
    "\n",
    "    response = requests.post(url, data=json.dumps(payload), headers=headers, auth=auth)\n",
    "\n",
    "    if response.status_code != 200:\n",
    "        print(f\"Casimir {network} node is not responding\")\n",
    "    else: \n",
    "        data = response.json()\n",
    "        if data['result'] == False:\n",
    "            print(f\"Casimir {network} node is fully synced\")\n",
    "        else:\n",
    "            print(f\"Casimir {network} node is syncing. Current block: {data['result']['currentBlock']}, Highest block: {data['result']['highestBlock']}\")\n",
    "\n"
   ]
  }
 ],
 "metadata": {
  "kernelspec": {
   "display_name": "casimir-data",
   "language": "python",
   "name": "casimir-data"
  },
  "language_info": {
   "codemirror_mode": {
    "name": "ipython",
    "version": 3
   },
   "file_extension": ".py",
   "mimetype": "text/x-python",
   "name": "python",
   "nbconvert_exporter": "python",
   "pygments_lexer": "ipython3",
   "version": "3.9.17"
  },
  "orig_nbformat": 4
 },
 "nbformat": 4,
 "nbformat_minor": 2
}
