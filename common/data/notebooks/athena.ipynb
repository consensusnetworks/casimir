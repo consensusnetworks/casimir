{
 "cells": [
  {
   "cell_type": "markdown",
   "metadata": {},
   "source": [
    "# Casimir Athena\n",
    "\n",
    "[Athena](https://boto3.amazonaws.com/v1/documentation/api/latest/reference/services/athena.html) integrated data environment and query sandbox\n",
    "\n",
    "## Table of Contents\n",
    "\n",
    "* [Install Packages](#install-packages)\n",
    "* [Configure Athena](#configure-athena)\n",
    "* [Configure Plotting](#configure-plotting)\n",
    "* [Introspect Schema](#introspect-schema)\n",
    "* [Sample Usage](#sample-usage)\n",
    "  * [Top New Stakes 2021](#top-new-stakes-2021)"
   ]
  },
  {
   "cell_type": "markdown",
   "metadata": {},
   "source": [
    "## Install Packages\n",
    "\n",
    "The primary package is [pyathena](https://pypi.org/project/pyathena/), a library for querying Amazon Athena and retrieving results with ease."
   ]
  },
  {
   "cell_type": "code",
   "execution_count": 1,
   "metadata": {},
   "outputs": [],
   "source": [
    "# Interact with AWS credentials and environment overrides\n",
    "import os\n",
    "from dotenv import load_dotenv\n",
    "import boto3\n",
    "import boto3.session\n",
    "\n",
    "# Query Athena\n",
    "from pyathena import connect\n",
    "\n",
    "# Handle results\n",
    "import warnings\n",
    "import pandas as pd\n",
    "import matplotlib.pyplot as plt\n",
    "from matplotlib.dates import DateFormatter"
   ]
  },
  {
   "cell_type": "markdown",
   "metadata": {},
   "source": [
    "## Configure Athena\n",
    "\n",
    "We use the AWS credentials from your configured AWS profile (default `consensus-networks-dev`) to initialize the pyathena connection and define a DB query method."
   ]
  },
  {
   "cell_type": "code",
   "execution_count": 2,
   "metadata": {},
   "outputs": [],
   "source": [
    "load_dotenv()\n",
    "PROFILE=os.getenv('PROFILE')\n",
    "profile = PROFILE or 'consensus-networks-dev'\n",
    "session = boto3.Session(profile_name=profile)\n",
    "creds = session.get_credentials()\n",
    "\n",
    "connection = connect(\n",
    "    aws_access_key_id=creds.access_key, \n",
    "    aws_secret_access_key=creds.secret_key, \n",
    "    s3_staging_dir=\"s3://casimir-etl-output-bucket-dev/\", \n",
    "    region_name=\"us-east-2\"\n",
    ")\n",
    "\n",
    "def db_query(sql_query: str) -> pd.DataFrame:\n",
    "    \"\"\"Execute SQL Query and get pandas dataframe\"\"\"\n",
    "    with warnings.catch_warnings():\n",
    "        # Ignore warning for non-SQLAlchemy connecton\n",
    "        warnings.simplefilter('ignore', UserWarning)\n",
    "        df = pd.read_sql_query(sql_query, connection)\n",
    "    return df"
   ]
  },
  {
   "cell_type": "markdown",
   "metadata": {},
   "source": [
    "> 🚩 You can override the default profile name by setting PROFILE in your project root `.env` file. See [Environment](../../../README.md#environment) for more information."
   ]
  },
  {
   "cell_type": "markdown",
   "metadata": {},
   "source": [
    "## Configure Plotting\n",
    "\n",
    "We have some custom plotting and formatting functions that can be helpful to visualize the results of Athena queries."
   ]
  },
  {
   "cell_type": "code",
   "execution_count": 3,
   "metadata": {},
   "outputs": [],
   "source": [
    "def get_cmap(n, name='hsv'):\n",
    "    '''Returns a function that maps each index in 0, 1, ..., n-1 to a distinct \n",
    "    RGB color; the keyword argument name must be a standard mpl colormap name.'''\n",
    "    return plt.cm.get_cmap(name, n)\n",
    "\n",
    "month_day = DateFormatter(\"%m-%d\")\n",
    "number_commas = plt.FuncFormatter(lambda x, p: format(int(x), ','))"
   ]
  },
  {
   "cell_type": "markdown",
   "metadata": {},
   "source": [
    "## Introspect Schema\n",
    "\n",
    "View the current Glue tables stored in [common/data/src/schemas](common/data/src/schemas)."
   ]
  },
  {
   "cell_type": "code",
   "execution_count": 44,
   "metadata": {},
   "outputs": [
    {
     "name": "stdout",
     "output_type": "stream",
     "text": [
      "----------------------------------------------------------------------\n",
      "E̲v̲e̲n̲t̲ ̲T̲a̲b̲l̲e\n",
      "Property                  Type       Description                        \n",
      "address                   string     The address that initiated the event\n",
      "auto_stake                boolean    The compounding selection of the stake action event\n",
      "datestring                date       The datestring (MM-DD-YYYY) of the event\n",
      "staked_amount             string     The amount staked or unstaked in the stake action event\n",
      "staked_candidate          string     The name of the candidate that received the stake action event\n",
      "staked_duration           integer    The duration of the stake action event\n",
      "type                      string     The type of event                  \n",
      "----------------------------------------------------------------------\n",
      "A̲g̲g̲ ̲T̲a̲b̲l̲e\n",
      "Property                  Type       Description                        \n",
      "address                   string     The address of the aggregate       \n",
      "auto_staking              boolean    The most recent stake reward compounding selection of a wallet\n",
      "first_staked_at           date       The first datestring (MM-DD-YYYY) that a wallet staked\n",
      "total_staked_amount       string     The total amount that a wallet has staked\n",
      "total_staked_duration     integer    The total duration that a wallet has staked\n",
      "type                      string     The type of aggregate (e.g. wallet, contract, etc.)\n",
      "----------------------------------------------------------------------\n"
     ]
    }
   ],
   "source": [
    "current_dir = os.getcwd()\n",
    "\n",
    "event_json = pd.read_json('file://' + current_dir + '/common/data/src/schemas/event.schema.json')\n",
    "agg_json = pd.read_json('file://' + current_dir + '/common/data/src/schemas/agg.schema.json')\n",
    "\n",
    "print('-'*70)\n",
    "\n",
    "print('\\u0332'.join('Event Table'))\n",
    "print (\"{:<25} {:<10} {:<35}\".format('Property', 'Type', 'Description'))\n",
    "for key in event_json.properties.keys():\n",
    "    type = event_json.properties[key]['type']\n",
    "    description = event_json.properties[key]['description']\n",
    "    print (\"{:<25} {:<10} {:<35}\".format(key, type, description))\n",
    "\n",
    "print('-'*70)\n",
    "\n",
    "print('\\u0332'.join('Agg Table'))\n",
    "print (\"{:<25} {:<10} {:<35}\".format('Property', 'Type', 'Description'))\n",
    "for key in agg_json.properties.keys():\n",
    "    type = agg_json.properties[key]['type']\n",
    "    description = agg_json.properties[key]['description']\n",
    "    print (\"{:<25} {:<10} {:<35}\".format(key, type, description))\n",
    "\n",
    "print('-'*70)"
   ]
  },
  {
   "cell_type": "markdown",
   "metadata": {},
   "source": [
    "## Sample Usage\n",
    "\n",
    "We can treat this notebook as a sandbox for querying Athena, further analyzing patterns, and plotting results. This section will demonstrate a few basic queries and how to use the plotting functions."
   ]
  },
  {
   "cell_type": "markdown",
   "metadata": {},
   "source": [
    "### Top New Stakes 2021\n",
    "\n",
    "Get the top 10 new user stakes created in 2021 and label the staked candidate. A \"New Stake\" excludes transactions where the user deposits additional funds to an existing stake."
   ]
  },
  {
   "cell_type": "code",
   "execution_count": null,
   "metadata": {},
   "outputs": [
    {
     "data": {
      "image/png": "[encoded data removed]",
      "text/plain": [
       "<Figure size 432x288 with 1 Axes>"
      ]
     },
     "metadata": {
      "needs_background": "light"
     },
     "output_type": "display_data"
    }
   ],
   "source": [
    "query = \"\"\"\n",
    "        SELECT \n",
    "                date_trunc('day', datestring) as Day, \n",
    "                staked_candidate as Candidate,\n",
    "                SUM(CAST(staked_amount AS double) / power(10, 18)) AS Amount\n",
    "        FROM \n",
    "                casimir_etl_database_dev.casimir_etl_event_table_dev\n",
    "        WHERE \n",
    "                type = 'create_stake' AND year(datestring) = 2021\n",
    "        GROUP BY \n",
    "                date_trunc('day', datestring),\n",
    "                staked_candidate\n",
    "        ORDER BY \n",
    "                Amount DESC\n",
    "        LIMIT 10\n",
    "        \"\"\"\n",
    "        \n",
    "dataframe = db_query(query)\n",
    "\n",
    "_, ax = plt.subplots()\n",
    "ax.set_title('Top New Stakes 2021')\n",
    "ax.xaxis.set_major_formatter(month_day)\n",
    "ax.yaxis.set_major_formatter(number_commas)\n",
    "cmap = get_cmap(len(dataframe))\n",
    "for index, (key,group) in enumerate(dataframe.groupby('Candidate')):\n",
    "        group.plot.scatter(ax=ax, x='Day', y='Amount', label=key, color=cmap(index), legend=True)"
   ]
  }
 ],
 "metadata": {
  "kernelspec": {
   "display_name": "casimir-data",
   "language": "python",
   "name": "casimir-data"
  },
  "language_info": {
   "codemirror_mode": {
    "name": "ipython",
    "version": 3
   },
   "file_extension": ".py",
   "mimetype": "text/x-python",
   "name": "python",
   "nbconvert_exporter": "python",
   "pygments_lexer": "ipython3",
   "version": "3.8.9"
  },
  "orig_nbformat": 4,
  "vscode": {
   "interpreter": {
    "hash": "5d4d13c165c7ffd6a1e55660fb2cf24c3500b9684df36ecf1c54f8cd26cf30ff"
   }
  }
 },
 "nbformat": 4,
 "nbformat_minor": 2
}
